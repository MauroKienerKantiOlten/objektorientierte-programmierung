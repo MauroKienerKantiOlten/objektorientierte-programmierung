{
 "cells": [
  {
   "cell_type": "markdown",
   "metadata": {},
   "source": [
    "## Objekte und Klassen\n",
    "\n",
    "### Einleitung"
   ]
  },
  {
   "cell_type": "markdown",
   "metadata": {},
   "source": [
    "**Beispiel 1** \n",
    "\n",
    "In einem Computerspiel soll die Spielerin auf 3 Gegner treffen und diese bekämpfen. Dabei werden sowohl die Spielerin als auch die Gegner (Vampirin, Zombie, Skelett) mit Hilfe von Dictionaries modelliert. Ein Teil des Programms könnte zum Beispiel folgendermassen aussehen:"
   ]
  },
  {
   "cell_type": "code",
   "execution_count": 1,
   "metadata": {},
   "outputs": [],
   "source": [
    "spielerin = {\"staerke\": 7, \"lebenspunkte\": 10}\n",
    "vampirin = {\"staerke\": 4, \"lebenspunkte\": 3}\n",
    "zombie = {\"staerke\": 2, \"lebenspunkte\": 2}\n",
    "skelett = {\"staerke\": 3, \"lebenspunkte\": 1}"
   ]
  },
  {
   "cell_type": "markdown",
   "metadata": {},
   "source": [
    "Was sind die Vorteile und Nachteile dieser Modellierung?"
   ]
  },
  {
   "cell_type": "markdown",
   "metadata": {},
   "source": [
    "#Vorteile: Hier kommt deine Antwort hin."
   ]
  },
  {
   "cell_type": "markdown",
   "metadata": {},
   "source": [
    "#Nachteile: Hier kommt deine Antwort hin."
   ]
  },
  {
   "cell_type": "markdown",
   "metadata": {},
   "source": [
    "Alle Akteure in unserem kleinen Spiel sind Objekte von der gleichen Art. Sie haben die gleichen Attribute (Stärke und Lebenpunkte) und wohl auch ein gleiches Verhalten (kämpfen, Leben verlieren, Stärke gewinnen,...).\n",
    "\n",
    "In der **objektorientierten Programmierzung (OOP)** wird ein Problem betrachtet und in diesem Objekte und Interaktionen zwischen den Objekten identifiziert. Ein **Objekt** zeichnet sich dabei immer durch **Attribute** und ein Verhalten (genannt **Methoden**) aus."
   ]
  },
  {
   "cell_type": "markdown",
   "metadata": {},
   "source": [
    "**Beispiel 2** \n",
    "\n",
    "Wollen wir ein Programm für ein:e Apfelverkäufer:in schreiben so brauchen wir wohl Objekte vom Typ `Apfel`.\n",
    "Bei einem `Apfel` könnten in unserem Fall die *Attribute* `farbe`, `gewicht` und `preis` wichtig sein. Als *Methoden* könnten beispielsweise `pflücken()` (der Apfel wird vom Baum ins Lager verschoben) oder `verkaufen()` (der Apfel wird vom Lager zur Kund:in verschoben) sinnvoll sein.\n",
    "\n",
    "Wir sehen aber auch, dass es wohl nötig wäre, auch ein Objekt vom Typ `Lager` zu modellieren und dass es Interaktionen zwischen **Objekten** vom Typ `Lager` und `Apfel` gibt.\n",
    "\n",
    "Zudem hängt die Auswahl der Attribute von der Anwendung ab. Wollen wir ein Grafikprogramm mit Äpfeln entwerfen, wäre wohl das Attribut \"Preis\" wenig nützlich, dafür könnten Attribute wie \"Höhe\" oder \"Breite\" wichtig sein."
   ]
  },
  {
   "cell_type": "markdown",
   "metadata": {},
   "source": [
    "### **Aufgabe 1:** \n",
    "\n",
    "Überlege dir ein Objekt, welches du modellieren möchtest und gib dabei die zugehörigen Attribute und Methoden an."
   ]
  },
  {
   "cell_type": "markdown",
   "metadata": {},
   "source": [
    "Objekt:\n",
    "\n",
    "Attribute:\n",
    "\n",
    "Methoden:"
   ]
  },
  {
   "cell_type": "markdown",
   "metadata": {},
   "source": [
    "Im Beispiel 2 haben wir Objekte vom Typ \"Apfel\" betrachtet. Ein:e Apfelverkäufer:in hat (hoffentlich) mehrere Äpfel. Einen solchen Apfel nennen wir ein **Objekt**, die Art (nämmlich \"Apfel\") eine **Klasse**.\n",
    "Ein bestimmter grüner kleiner Apfel ist also ein Objekt der Klasse \"Apfel\". Manchmal sagt man auch: Der grüne kleine Apfel ist eine **Instanz** der Klasse \"Apfel\".\n",
    "\n",
    "Damit haben wir alle Grundbegriffe der objektorientierten Programmierung zusammen. Diese sollen hier noch etwas detaillierter beschrieben werden."
   ]
  },
  {
   "cell_type": "markdown",
   "metadata": {},
   "source": [
    "### Grundbegriffe\n",
    "\n",
    "#### Klassen\n",
    "\n",
    "Bei der objektorientierten Programmierung arbeitet man mit sogenannten **Klassen**. Eine Klasse kannst du dir vorstellen wie ein Sammelbecken für ähnliche Dinge. Da Klassen nach Belieben erstellt werden können, sind der Fantasie keine Grenzen gesetzt, was das für «Dinge» sein können. Im oberen Beispiel müssten wir beispielsweise eine Klasse (eine Anleitung) für ein Objekt vom Typ `Apfel` erstellen. \n",
    "\n",
    "*\"Die Klasse definiert ein bestimmtes Objekt. Sie definiert alle Attribute und Methoden die zu einem Objekt von diesem Typ gehören sollen.\"*\n",
    "\n",
    "#### Attribute\n",
    "\n",
    "**Attribute** sind nichts Anderes als Variablen, in denen Eigenschaften oder Zustände von Objekten gespeichert werden können. Die Attribute von einem Apfel sind beispielsweise `farbe`, `gewicht` und `preis`. \n",
    "\n",
    "#### Methoden\n",
    "\n",
    "**Methoden** sind technisch gesehen immer *Funktionen*. Sie werden in der objektorientierten Programmierung verwendet, um Aktionen für Objekte zu realisieren. Die Besonderheit der Methode im Vergleich zu einer sonstigen Funktion ist, dass sie nur im direkten Zusammenhang mit der Klasse selbst aufgerufen werden kann.\n",
    "Eine Methode der Klasse `Apfel` ist beispielsweise `pflücken()`.\n",
    "\n",
    "#### Instanzen/Objekte\n",
    "\n",
    "Man unterscheidet zwischen **Klassen** und **Instanzen (Objekten)**. Wenn wir die Klasse als ein Grundgerüst verstehen, ist die Instanz die konkrete Ausfertigung davon. Verschiedene Instanzen einer Klasse zeichnen sich dadurch aus, dass sie zwar alle dieselben Attribute haben, die konkreten Inhalte dieser Attribute sich aber von einer Instanz zur anderen unterscheiden können.\n",
    "Ebenso sind für alle Instanzen einer Klasse dieselben Methoden verfügbar. Da bei der Ausführung der Methoden intern die Attribute verwendet werden, kann sich das Ergebnis der Ausführung aber wieder von einer Instanz zur anderen unterscheiden.\n",
    "\n",
    "Beispielsweise könnten wir *zwei instanzen* vom Typ `Apfel` haben.\n",
    "\n",
    "- 'Golden Delicios'\n",
    "    - `farbe`: grün\n",
    "    - `gewicht`: 300g\n",
    "    - `preis`: 0.50 CHF\n",
    "- 'Braeburn'\n",
    "    - `farbe`: rot\n",
    "    - `gewicht`: 350g\n",
    "    - `preis`: 0.70 CHF\n",
    "\n",
    "Wir erkennen das **beide Instanzen** die **gleichen Attribute** haben, jedoch diese Attribute **unterschiedliche Werte** haben. Die **Klasse** `Apfel` definiert uns, welche Eigenschaften eine Instanz vom Typ `Apfel` haben muss. Die **Instanz** kann jedoch die Werte dieser Eigenschaften *\"selber setzen\"*."
   ]
  },
  {
   "cell_type": "markdown",
   "metadata": {},
   "source": [
    "### Schreibweise (Syntax)"
   ]
  },
  {
   "cell_type": "markdown",
   "metadata": {},
   "source": [
    "**Beispiel 3** \n",
    "\n",
    "Sollte deine Schulklasse modelliert werden, gäbe es wohl eine Klasse \"Schüler:in\". Alle Objekte/Instanzen dieser Klasse hätten - zumindest in unserem Modell - die gleichen Attribute und Methoden. Allerdings müssen die Werte dieser Attribute nicht gleich sein. \n",
    "\n",
    "So wären zum Beispiel \"Livia\" und \"Jannik\" Instanzen der Klasse \"Schüler:in\" und beide hätten die gleichen Attribute (\"Französischnote\", \"Mathematiknote\",...) und Methoden (\"Mathematikprüfung schreiben\",...). Sehr wahrscheinlich wären aber die Werte dieser Attribute nicht die gleichen und auch die Ergebnisse der Methoden wie \"Französischprüfung schreiben\" sind auch nicht unbedingt gleich."
   ]
  },
  {
   "cell_type": "markdown",
   "metadata": {},
   "source": [
    "#### Schreibweise Klasse\n",
    "\n",
    "**Beispiel 4**\n",
    "\n",
    "Das schöne an Python ist, dass sich Code oft sehr einfach schreiben lässt ohne vorher viele Voreinstellungen zu machen. So kann eine Klasse sehr einfach geschrieben werden:"
   ]
  },
  {
   "cell_type": "code",
   "execution_count": 2,
   "metadata": {},
   "outputs": [],
   "source": [
    "class MeineErsteKlasse:\n",
    "    pass\n"
   ]
  },
  {
   "cell_type": "markdown",
   "metadata": {},
   "source": [
    "Eine Klassendefinition startet immer mit dem Schlüsselwort `class` gefolgt vom Namen der Klasse. Danach folgt - pythontypisch - ein **Doppelpunkt** und eine **Einrückung**. Eingerückt folgen die Klasseninhalte. Da unser erstes Beispiel sehr einfach sein soll, begnügen wir uns hier mit dem Befehl `pass`, welcher gar nichts macht.\n",
    "\n",
    "In Python werden Klassennamen gemäss Konvention immer **gross** geschrieben. Zudem wird CamelCase (MeineErsteKlasse) statt wie bei Variablen snake_case (meine_erste_klasse) verwendet.\n",
    "\n",
    "Wir können nun auch zwei erste **Objekte** (bzw. **Instanzen**) der Klasse \"MeineErsteKlasse\" mit den Namen fritz und johanna erstellen:"
   ]
  },
  {
   "cell_type": "code",
   "execution_count": 3,
   "metadata": {},
   "outputs": [
    {
     "name": "stdout",
     "output_type": "stream",
     "text": [
      "<__main__.MeineErsteKlasse object at 0x000002401568F208>\n",
      "<__main__.MeineErsteKlasse object at 0x000002401568FE08>\n",
      "<class '__main__.MeineErsteKlasse'>\n",
      "False\n"
     ]
    }
   ],
   "source": [
    "fritz = MeineErsteKlasse()\n",
    "johanna = MeineErsteKlasse()\n",
    "\n",
    "print(fritz)\n",
    "print(johanna)\n",
    "\n",
    "print(type(johanna))\n",
    "\n",
    "print(johanna == fritz)\n"
   ]
  },
  {
   "cell_type": "markdown",
   "metadata": {},
   "source": [
    "Ein Objekt einer Klasse kann mit dem Klassennahmen und einem Paar von runden Klammern erzeugt werden. Python erzeugt dann ein neues Objekt der entsprechenden Klasse.\n",
    "\n",
    "Wird ein Objekt mit print ausgeben, wird die *Speicheradresse* des Objektes angegeben. Wir sehen auch, dass es sich bei fritz und johanna um unterschiedliche Objekte (Instanzen) der gleichen Klasse handelt. Die Speicheradressen der beiden Objekte sind unterschiedlich und der Vergleich `johanna == fritz` liefert `False`."
   ]
  },
  {
   "cell_type": "markdown",
   "metadata": {},
   "source": [
    "**Beispiel 5** \n",
    "\n",
    "Das obige Beispiel war etwas langweilig. Unsere Objekte hatte weder Attribute noch Methoden. Wie können in Python Attribute zu einem bestimmten Objekt hinzugefügt werden? Wir schauen dazu noch einmal unser erstes Beispiel mit dem Abenteuerspiel an:"
   ]
  },
  {
   "cell_type": "code",
   "execution_count": 1,
   "metadata": {},
   "outputs": [
    {
     "name": "stdout",
     "output_type": "stream",
     "text": [
      "Die Spielerin hat eine Stärke von 7 und 10 Lebenpunkte.\n",
      "Der Zombie hat eine Stärke von 2 und 2 Lebenpunkte.\n"
     ]
    }
   ],
   "source": [
    "class Spielfigur:\n",
    "    pass\n",
    "\n",
    "\n",
    "spielerin = Spielfigur()\n",
    "zombie = Spielfigur()\n",
    "\n",
    "spielerin.staerke = 7\n",
    "spielerin.lebenspunkte = 10\n",
    "zombie.staerke = 2\n",
    "zombie.lebenspunkte = 2\n",
    "\n",
    "print(\n",
    "    f\"Die Spielerin hat eine Stärke von {spielerin.staerke} und {spielerin.lebenspunkte} Lebenpunkte.\")\n",
    "print(\n",
    "    f\"Der Zombie hat eine Stärke von {zombie.staerke} und {zombie.lebenspunkte} Lebenpunkte.\")\n"
   ]
  },
  {
   "cell_type": "markdown",
   "metadata": {},
   "source": [
    "Der Code erstellt leere Spielfiguren ohne Attribute und Methoden. Es werden zwei Instanzen \"spielerin\" und \"zombie\" erstellt und diesen beiden Instanzen je die Attribute \"staerke\" und \"lebenspunkte\" zugeordnet. \n",
    "\n",
    "Dabei wird die Syntax *objekt.attribut=wert verwendet*, man spricht auch von einer **Punktnotation**. Der Wert kann beliebig sein: Dies kann ein Python-Datentyp wie String, Integer, List oder Dictionary sein, aber auch ein anderes Objekt.\n",
    "\n",
    "**Achtung** Natürlich ist es dadurch möglich für unterschiedliche Instanzen auch unterschiedliche Attribute zu definieren. Wir werden später sehen, wie wir in einer Klasse *instanzübergreifende* Attribute definieren können, sodass alle Instanzen einer bestimmten Klasse dieselben Attribute beinhalten.\n",
    "\n",
    "Wie aber können Methoden eingeführt werden? Objekte werden erst dann spannend, wenn diese etwas tun können. Wir schreiben als erstes eine Methode namens \"verletzen\", bei der eine Spielfigur zwei Lebensunkte verliert."
   ]
  },
  {
   "cell_type": "code",
   "execution_count": 2,
   "metadata": {},
   "outputs": [
    {
     "name": "stdout",
     "output_type": "stream",
     "text": [
      "Die Spielerin hat eine Stärke von 7 und 10 Lebenpunkte.\n",
      "Die Spielerin hat eine Stärke von 7 und 8 Lebenpunkte.\n"
     ]
    }
   ],
   "source": [
    "class Spielfigur:\n",
    "    pass\n",
    "\n",
    "    # Methode\n",
    "    def verletzen(self):\n",
    "        self.lebenspunkte = self.lebenspunkte-2\n",
    "\n",
    "\n",
    "spielerin = Spielfigur()\n",
    "\n",
    "spielerin.staerke = 7\n",
    "spielerin.lebenspunkte = 10\n",
    "\n",
    "\n",
    "print(\n",
    "    f\"Die Spielerin hat eine Stärke von {spielerin.staerke} und {spielerin.lebenspunkte} Lebenpunkte.\")\n",
    "spielerin.verletzen()\n",
    "print(\n",
    "    f\"Die Spielerin hat eine Stärke von {spielerin.staerke} und {spielerin.lebenspunkte} Lebenpunkte.\")\n"
   ]
  },
  {
   "cell_type": "markdown",
   "metadata": {},
   "source": [
    "In Python sind Methoden wie Funktionen aufgebaut, sie starten mit dem Schlüsselwort `def` gefolgt vom Namen der Funktion, einer *Liste von Parametern* und einem Doppelpunkt. Dann folgt der eingerückte Funktionskörper auf einer neuen Linie.\n",
    "\n",
    "Das einizig neue ist der Parameter `self`. Alle Methoden in einer Python-Klasse müssen `self` als ersten Parameter aufweisen (wobei der Name self nur eine Konvention ist, man könnte dies auch fritz oder hallo nennen). Das `self`-Argument verweist dabei auf das konkrete Objekt, mit dem die Methode aufgerufen wurde und kann auf die Attribute und Methoden des Objektes zugreifen. In unserem Beispiel wird auf das Attribut \"staerke\" zugegriffen.\n",
    "\n",
    "Beim **Aufruf** der Methode (`spielerin.verletzen()`) muss kein self-Argument angegeben werden (die Klammer ist leer). Python macht dies automatisch und setzt für self das Argument \"spielerin\" ein.\n",
    "\n",
    "**Vorsicht:** Bei Methodendefinitionen MUSS das self-Argument verwendet werden, sonst entsteht eine Fehlermeldung:"
   ]
  },
  {
   "cell_type": "code",
   "execution_count": 9,
   "metadata": {},
   "outputs": [
    {
     "name": "stdout",
     "output_type": "stream",
     "text": [
      "Die Spielerin hat eine Stärke von 7 und 10 Lebenpunkte.\n"
     ]
    },
    {
     "ename": "TypeError",
     "evalue": "verletzen() takes 0 positional arguments but 1 was given",
     "output_type": "error",
     "traceback": [
      "\u001b[1;31m---------------------------------------------------------------------------\u001b[0m",
      "\u001b[1;31mTypeError\u001b[0m                                 Traceback (most recent call last)",
      "\u001b[1;32m<ipython-input-9-21bd17020acd>\u001b[0m in \u001b[0;36m<module>\u001b[1;34m\u001b[0m\n\u001b[0;32m     11\u001b[0m print(\n\u001b[0;32m     12\u001b[0m     f\"Die Spielerin hat eine Stärke von {spielerin.staerke} und {spielerin.lebenspunkte} Lebenpunkte.\")\n\u001b[1;32m---> 13\u001b[1;33m \u001b[0mspielerin\u001b[0m\u001b[1;33m.\u001b[0m\u001b[0mverletzen\u001b[0m\u001b[1;33m(\u001b[0m\u001b[1;33m)\u001b[0m\u001b[1;33m\u001b[0m\u001b[1;33m\u001b[0m\u001b[0m\n\u001b[0m\u001b[0;32m     14\u001b[0m print(\n\u001b[0;32m     15\u001b[0m     f\"Die Spielerin hat eine Stärke von {spielerin.staerke} und {spielerin.lebenspunkte} Lebenpunkte.\")\n",
      "\u001b[1;31mTypeError\u001b[0m: verletzen() takes 0 positional arguments but 1 was given"
     ]
    }
   ],
   "source": [
    "class Spielfigur:\n",
    "    pass\n",
    "\n",
    "    def verletzen():\n",
    "        pass\n",
    "\n",
    "\n",
    "spielerin = Spielfigur()\n",
    "spielerin.staerke = 7\n",
    "spielerin.lebenspunkte = 10\n",
    "print(\n",
    "    f\"Die Spielerin hat eine Stärke von {spielerin.staerke} und {spielerin.lebenspunkte} Lebenpunkte.\")\n",
    "spielerin.verletzen()\n",
    "print(\n",
    "    f\"Die Spielerin hat eine Stärke von {spielerin.staerke} und {spielerin.lebenspunkte} Lebenpunkte.\")\n"
   ]
  },
  {
   "cell_type": "markdown",
   "metadata": {},
   "source": [
    "Die Fehlermeldung \"TypeError: verletzen() takes 0 positional arguments but 1 was given\" gibt an, dass beim Aufruf von \"verletzen\" implizit ein Argument mitgegeben wurde, nämlich \"spielerin\". In der Methodendefinition ist aber keines vorgesehen. Das self-Argument muss also wirklich immer in der Methodendefinition angegeben werden."
   ]
  },
  {
   "cell_type": "markdown",
   "metadata": {},
   "source": [
    "Eine Methode kann aber auch andere Argumente als `self` enthalten. Wir wollen nun eine Methode `verletzen()` schreiben, bei der die verlorenen Lebenspunkte als Parameter übergeben werden können."
   ]
  },
  {
   "cell_type": "code",
   "execution_count": null,
   "metadata": {},
   "outputs": [],
   "source": [
    "class Spielfigur:\n",
    "    pass\n",
    "\n",
    "    def verletzen(self, verlorene_lebenpunkte):\n",
    "        self.lebenspunkte = self.lebenspunkte-verlorene_lebenpunkte\n",
    "\n",
    "\n",
    "spielerin = Spielfigur()\n",
    "\n",
    "\n",
    "spielerin.staerke = 7\n",
    "spielerin.lebenspunkte = 10\n",
    "\n",
    "\n",
    "print(\n",
    "    f\"Die Spielerin hat eine Stärke von {spielerin.staerke} und {spielerin.lebenspunkte} Lebenpunkte.\")\n",
    "spielerin.verletzen(4)\n",
    "print(\n",
    "    f\"Die Spielerin hat eine Stärke von {spielerin.staerke} und {spielerin.lebenspunkte} Lebenpunkte.\")\n"
   ]
  },
  {
   "cell_type": "markdown",
   "metadata": {},
   "source": [
    "Beachten Sie, dass auch hier der Methodenaufruf - `spielerin.verletzen(4)` - nur ein Argument enthält, für `self` wird wieder automatisch \"spielerin\" eingesetzt.\n",
    "\n",
    "#### Konstruktor (Attribute in der Klasse definieren)\n",
    "\n",
    "Bei unserem Beispiel ist es etwas mühsam, dass die Attribute immer je einzeln gesetzt werden. Es gibt in Python eine Methode, mit welcher die Attribute direkt bei der Erstellung des Objekts initialisiert werden: Die `__init__`-Methode. Diese Methode nennen wir auch die **Konstruktormethode**. Die beiden Unterstriche am Anfang und am Ende zeigen an, dass es sich um eine spezielle Methode handelt, die von Python etwas anders behandelt wird als normale Methoden.\n",
    "\n",
    "Betrachten wir den Einsatz von `__init__` in unserem Beispiel:"
   ]
  },
  {
   "cell_type": "code",
   "execution_count": 10,
   "metadata": {},
   "outputs": [
    {
     "name": "stdout",
     "output_type": "stream",
     "text": [
      "Die Spielerin hat eine Stärke von 7 und 10 Lebenpunkte.\n",
      "Die Spielerin hat eine Stärke von 7 und 6 Lebenpunkte.\n"
     ]
    }
   ],
   "source": [
    "class Spielfigur:\n",
    "    def __init__(self, staerke, lebenspunkte):\n",
    "        self.staerke = staerke\n",
    "        self.lebenspunkte = lebenspunkte\n",
    "\n",
    "    def verletzen(self, verlorene_lebenpunkte):\n",
    "        self.lebenspunkte = self.lebenspunkte-verlorene_lebenpunkte\n",
    "\n",
    "\n",
    "spielerin = Spielfigur(7, 10)\n",
    "\n",
    "\n",
    "print(\n",
    "    f\"Die Spielerin hat eine Stärke von {spielerin.staerke} und {spielerin.lebenspunkte} Lebenpunkte.\")\n",
    "spielerin.verletzen(4)\n",
    "print(\n",
    "    f\"Die Spielerin hat eine Stärke von {spielerin.staerke} und {spielerin.lebenspunkte} Lebenpunkte.\")\n"
   ]
  },
  {
   "cell_type": "markdown",
   "metadata": {},
   "source": [
    "Wie du erkennen kannst, können wir beim Erstellen einer neuen Spielfigur direkt **Werte** für die Attribute setzen. Eine zweite Spielfigur könnten wir beispielsweise folgendermassen erstellen:\n",
    "\n",
    "```python\n",
    "    spielerin2 = Spielfigur(8, 12)\n",
    "```\n",
    "\n",
    "Die Instanz `spielerin2` hat eine Stärke von 8 und 12 Lebenspunkte."
   ]
  },
  {
   "cell_type": "markdown",
   "metadata": {},
   "source": [
    "### **Aufgabe 2** \n",
    "\n",
    "Schreibe eine Klasse Tier. Diese soll zwei Attribute (`art` und `geraeusch`) und eine Methode `mach_geraeusch()` enthalten. Benutze dabei auch die Konstruktormethode `__init__`. \n",
    "\n",
    "Teste deinen Code mit einem Tier namens \"bello\", welches ein \"Hund\" ist und \"Wau\" macht und einem Tier namens \"clara\", welches eine \"Katze\" ist \"Miau\" macht.\n",
    "\n",
    "*Hinweis*: Die Methode `mach_geraeusch()` sollte das Geräusch in die Kommandozeile schreiben."
   ]
  },
  {
   "cell_type": "code",
   "execution_count": 14,
   "metadata": {},
   "outputs": [],
   "source": [
    "class Tier:\n",
    "    # Hier kommt dein Code hin\n",
    "    pass\n",
    "\n",
    "# Zum Testen\n",
    "# bello = Tier(\"Hund\",\"Wau\")\n",
    "# bello.mach_geraeusch()\n",
    "# clara = Tier(\"Katze\",\"Miau\")\n",
    "# clara.mach_geraeusch()\n"
   ]
  },
  {
   "cell_type": "markdown",
   "metadata": {},
   "source": [
    "### **Aufgabe 3** \n",
    "\n",
    "Erstelle eine Klasse Wuerfel (ohne Attribute). Diese soll die Methode `wuerfeln()` enthalten, mit der ein Würfel gewürfelt werden kann. Entsprechend soll die Rückgabe eine Zufallszahl zwischen 1 und 6 sein.\n",
    "\n",
    "*Hinweis:* mit randint(a,b) aus dem Modul random kann eine ganzzahlige Zufallszahl zwischen a und b erzeugt werden.\n"
   ]
  },
  {
   "cell_type": "code",
   "execution_count": null,
   "metadata": {},
   "outputs": [],
   "source": [
    "from random import randint\n",
    "\n",
    "\n",
    "class Wuerfel:\n",
    "    # Hier kommt dein Code hin\n",
    "    pass\n",
    "\n",
    "# Teste deine Klasse\n"
   ]
  },
  {
   "cell_type": "markdown",
   "metadata": {},
   "source": [
    "### **Aufgabe 4** \n",
    "\n",
    "Erstelle eine Klasse Superwuerfel (mit einem Attribut $n$), welches einen Würfel mit $n$ Flächen modelliert. Diese soll die Methode `wuerfeln()` enthalten, mit der ein Würfel gewürfelt werden kann. Entsprechend soll die Rückgabe eine Zufallszahl zwischen 1 und $n$ sein."
   ]
  },
  {
   "cell_type": "code",
   "execution_count": null,
   "metadata": {},
   "outputs": [],
   "source": [
    "from random import randint\n",
    "\n",
    "\n",
    "class Superwuerfel:\n",
    "    # Hier kommt ihr Code hin\n",
    "    pass\n",
    "\n",
    "# Testen Sie hier Ihre Klasse\n"
   ]
  },
  {
   "cell_type": "markdown",
   "metadata": {},
   "source": [
    "**Beispiel 6** \n",
    "\n",
    "Wir wollen eine Klasse schreiben, mit welcher wir Brüche modellieren können.\n",
    "\n",
    "Attribute:\n",
    "* Zaehler\n",
    "* Nenner\n",
    "\n",
    "Methoden:\n",
    "* Addieren\n",
    "* Subtrahieren\n",
    "* Multiplizieren\n",
    "* Dividieren\n",
    "\n",
    "Ein erster Versuch (noch ohne Methoden) könnte so aussehen:"
   ]
  },
  {
   "cell_type": "code",
   "execution_count": 21,
   "metadata": {},
   "outputs": [
    {
     "name": "stdout",
     "output_type": "stream",
     "text": [
      "<__main__.Bruch object at 0x000002401557DAC8>\n"
     ]
    }
   ],
   "source": [
    "class Bruch:\n",
    "\n",
    "    def __init__(self, zaehler, nenner):\n",
    "        self.zaehler = zaehler\n",
    "        self.nenner = nenner\n",
    "\n",
    "\n",
    "b = Bruch(7, 8)\n",
    "print(b)\n"
   ]
  },
  {
   "cell_type": "markdown",
   "metadata": {},
   "source": [
    "Leider kann mit dem `print`-Befehl keine sinnvolle Repräsentation des Bruchs ausgegeben werden. Wie wir bereits gesehen haben, wird im Wesentlichen die Speicheradresse des Objekts ausgegeben.\n",
    "\n",
    "Eine Möglichkeit den Bruch auszugeben ist die folgende mit Hilfe eines f-Strings:"
   ]
  },
  {
   "cell_type": "code",
   "execution_count": 22,
   "metadata": {},
   "outputs": [
    {
     "name": "stdout",
     "output_type": "stream",
     "text": [
      "7/8\n"
     ]
    }
   ],
   "source": [
    "print(f\"{b.zaehler}/{b.nenner}\")"
   ]
  },
  {
   "cell_type": "markdown",
   "metadata": {},
   "source": [
    "Leider ist auch dies etwas mühsam. Sollen mehrere Brüche ausgegeben werden, muss dieses Code-Stück immer wieder getippt werden, was Zeit kostet und fehleranfällig ist. \n",
    "\n",
    "In Python existiert die `__str__`-Methode, mit welcher ein Objekt als String dargestellt werden kann. Diese wird immer dann aufgerufen, wenn print oder str aufgerufen werden. \n",
    "\n",
    "Wir können unsere Bruchklasse nun folgendermassen anpassen:"
   ]
  },
  {
   "cell_type": "code",
   "execution_count": 24,
   "metadata": {},
   "outputs": [
    {
     "name": "stdout",
     "output_type": "stream",
     "text": [
      "5/6\n",
      "9/8\n"
     ]
    }
   ],
   "source": [
    "# Kleine Hilfsmethode die uns den ggT von a und b liefert\n",
    "def ggT(a, b):\n",
    "    while b != 0:\n",
    "        c = a % b\n",
    "        a = b\n",
    "        b = c\n",
    "    return a\n",
    "\n",
    "\n",
    "class Bruch:\n",
    "\n",
    "    # Hier wird der Bruch direkt gekürzt\n",
    "    def __init__(self, zaehler, nenner):\n",
    "        g = ggT(zaehler, nenner)\n",
    "        self.zaehler = int(zaehler/g)\n",
    "        self.nenner = int(nenner/g)\n",
    "\n",
    "    def __str__(self):\n",
    "        return f\"{self.zaehler}/{self.nenner}\"\n",
    "\n",
    "\n",
    "b = Bruch(5, 6)\n",
    "print(b)\n",
    "c = Bruch(18, 16)\n",
    "print(c)\n"
   ]
  },
  {
   "cell_type": "markdown",
   "metadata": {},
   "source": [
    "Beim Aufuf von `print` wurden die beiden Bruchinstanzen je mit Hilfe der Methode `__str__` zuerst in Strings verwandelt und dann erst ausgegeben.\n",
    "\n",
    "Beachte, dass eine Funktion `ggT` hinzugefügt wurde, welche mit Hilfe des Euklidschen Algorithmus' den ggT von zwei Zahlen berechnet. Mit dieser Funktion werden die Brüche beim Initialisieren direkt gekürzt.\n",
    "\n",
    "Nun können wir eine erste Methode hinzufügen:"
   ]
  },
  {
   "cell_type": "code",
   "execution_count": 25,
   "metadata": {},
   "outputs": [
    {
     "name": "stdout",
     "output_type": "stream",
     "text": [
      "7/6\n"
     ]
    }
   ],
   "source": [
    "def ggT(a, b):\n",
    "    while b != 0:\n",
    "        c = a % b\n",
    "        a = b\n",
    "        b = c\n",
    "    return a\n",
    "\n",
    "\n",
    "class Bruch:\n",
    "\n",
    "    def __init__(self, zaehler, nenner):\n",
    "        g = ggT(zaehler, nenner)\n",
    "        self.zaehler = int(zaehler/g)\n",
    "        self.nenner = int(nenner/g)\n",
    "\n",
    "    def __str__(self):\n",
    "        return f\"{self.zaehler}/{self.nenner}\"\n",
    "\n",
    "    def addieren(self, other):\n",
    "        zaehler_summer = self.zaehler*other.nenner+other.zaehler*self.nenner\n",
    "        nenner_summe = self.nenner * other.nenner\n",
    "        return Bruch(zaehler_summer, nenner_summe)\n",
    "\n",
    "\n",
    "b = Bruch(5, 6)\n",
    "c = Bruch(1, 3)\n",
    "print(b.addieren(c))\n"
   ]
  },
  {
   "cell_type": "markdown",
   "metadata": {},
   "source": [
    "### **Aufgabe 5** \n",
    "\n",
    "Ergänze das obige Programm um die Methoden subrahieren, multiplizieren und dividieren."
   ]
  },
  {
   "cell_type": "code",
   "execution_count": 26,
   "metadata": {},
   "outputs": [],
   "source": [
    "def ggT(a, b):\n",
    "    while b != 0:\n",
    "        c = a % b\n",
    "        a = b\n",
    "        b = c\n",
    "    return a\n",
    "\n",
    "\n",
    "class Bruch:\n",
    "\n",
    "    def __init__(self, zaehler, nenner):\n",
    "        g = ggT(zaehler, nenner)\n",
    "        self.zaehler = int(zaehler/g)\n",
    "        self.nenner = int(nenner/g)\n",
    "\n",
    "    def __str__(self):\n",
    "        return f\"{self.zaehler}/{self.nenner}\"\n",
    "\n",
    "    def addieren(self, other):\n",
    "        zaehler_summer = self.zaehler*other.nenner+other.zaehler*self.nenner\n",
    "        nenner_summe = self.nenner * other.nenner\n",
    "        return Bruch(zaehler_summer, nenner_summe)\n",
    "\n",
    "    def subtrahieren(self, other):\n",
    "        # Hier kommt dein Code hin.\n",
    "        return  # Hier kommt dein Code hin.\n",
    "\n",
    "    def multiplizieren(self, other):\n",
    "        # Hier kommt dein Code hin.\n",
    "        return  # Hier kommt dein Code hin.\n",
    "\n",
    "    def dividieren(self, other):\n",
    "        # Hier kommt dein Code hin.\n",
    "        return  # Hier kommt dein Code hin.\n",
    "\n",
    "# Teste deinen Code.\n"
   ]
  },
  {
   "cell_type": "markdown",
   "metadata": {},
   "source": [
    "### **Zusatzaufgabe** \n",
    "\n",
    "Ergänze das Spiel aus Beispiel 1 durch mindestens 3 sinnvolle Methoden. Dazu kannst du der Spielfigur auch neue Attribute geben. Beispielsweise um das Attribut `stärke` und die Methode `kämpfen()`. Du kannst gerne selber entscheiden, welche neuen Methoden und Attribute die Spielfigur haben soll."
   ]
  },
  {
   "cell_type": "code",
   "execution_count": 28,
   "metadata": {},
   "outputs": [],
   "source": [
    "class Spielfigur:\n",
    "    def __init__(self, staerke, lebenspunkte):\n",
    "        self.staerke = staerke\n",
    "        self.lebenspunkte = lebenspunkte\n",
    "\n",
    "    def verletzen(self, verlorene_lebenpunkte):\n",
    "        self.lebenspunkte = self.lebenspunkte-verlorene_lebenpunkte\n"
   ]
  }
 ],
 "metadata": {
  "interpreter": {
   "hash": "26130839a7e87fd59e038942810dbb4909e5232b32b1ad521e6a6bc3043702c6"
  },
  "kernelspec": {
   "display_name": "Python 3.7.10 64-bit ('base': conda)",
   "name": "python3"
  },
  "language_info": {
   "codemirror_mode": {
    "name": "ipython",
    "version": 3
   },
   "file_extension": ".py",
   "mimetype": "text/x-python",
   "name": "python",
   "nbconvert_exporter": "python",
   "pygments_lexer": "ipython3",
   "version": "3.9.7"
  },
  "orig_nbformat": 4
 },
 "nbformat": 4,
 "nbformat_minor": 2
}
